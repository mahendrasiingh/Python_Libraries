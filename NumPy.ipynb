{
  "nbformat": 4,
  "nbformat_minor": 0,
  "metadata": {
    "colab": {
      "provenance": [],
      "authorship_tag": "ABX9TyPCaCEy/qlFurmQa2vyUHA3",
      "include_colab_link": true
    },
    "kernelspec": {
      "name": "python3",
      "display_name": "Python 3"
    },
    "language_info": {
      "name": "python"
    }
  },
  "cells": [
    {
      "cell_type": "markdown",
      "metadata": {
        "id": "view-in-github",
        "colab_type": "text"
      },
      "source": [
        "<a href=\"https://colab.research.google.com/github/mahendrasiingh/Python_Libraries/blob/main/NumPy.ipynb\" target=\"_parent\"><img src=\"https://colab.research.google.com/assets/colab-badge.svg\" alt=\"Open In Colab\"/></a>"
      ]
    },
    {
      "cell_type": "code",
      "execution_count": null,
      "metadata": {
        "colab": {
          "base_uri": "https://localhost:8080/"
        },
        "id": "b9pfENc2QnvG",
        "outputId": "17aafa2d-9253-410f-9b9a-52dc24ef7a8b"
      },
      "outputs": [
        {
          "output_type": "stream",
          "name": "stdout",
          "text": [
            "[[10 20 30 40]\n",
            " [10 20 30 40]\n",
            " [10 20 30 40]]\n",
            "<class 'numpy.ndarray'>\n"
          ]
        }
      ],
      "source": [
        "import numpy as np\n",
        "arr = np.array([[10,20,30,40],[10,20,30,40],[10,20,30,40,]])\n",
        "print(arr)\n",
        "print(type(arr))\n"
      ]
    },
    {
      "cell_type": "code",
      "source": [
        "# SLICING IN NUMPY ARRAYS\n",
        "arr = np.array([[10,20,30,40],[50,60,70,80]])\n",
        "print(arr[0:2,0:2])\n"
      ],
      "metadata": {
        "colab": {
          "base_uri": "https://localhost:8080/"
        },
        "id": "GoFa3IlZRZdJ",
        "outputId": "73a87761-6dc8-4e8d-b881-c521cf0dabf9"
      },
      "execution_count": null,
      "outputs": [
        {
          "output_type": "stream",
          "name": "stdout",
          "text": [
            "[[10 20]\n",
            " [50 60]]\n"
          ]
        }
      ]
    },
    {
      "cell_type": "code",
      "source": [
        "# ATTRIBUTES OF ARRAYS\n",
        "arr = np.array([[10,20,30,40],[10,20,30,40],[10,20,30,40,]])\n",
        "print(np.ndim(arr))\n",
        "print(np.shape(arr))\n",
        "print(np.size(arr))\n",
        "print(arr.dtype)\n"
      ],
      "metadata": {
        "colab": {
          "base_uri": "https://localhost:8080/"
        },
        "id": "YrKYWprlSvn_",
        "outputId": "db0b25b6-9556-41ab-ee0d-b662424b294d"
      },
      "execution_count": null,
      "outputs": [
        {
          "output_type": "stream",
          "name": "stdout",
          "text": [
            "2\n",
            "(3, 4)\n",
            "12\n",
            "int64\n"
          ]
        }
      ]
    },
    {
      "cell_type": "code",
      "source": [
        "# INSPECTING AN ARRAY\n",
        "arr = np.array([[10,20,30,40],[10,20,30,40],[10,20,30,40,]])\n",
        "print(arr.shape)\n",
        "print(len(arr))\n",
        "print(np.size(arr))\n",
        "print(arr.astype(float))\n",
        "print(arr.astype(str))\n"
      ],
      "metadata": {
        "colab": {
          "base_uri": "https://localhost:8080/"
        },
        "id": "7o6-6LACUvVZ",
        "outputId": "d1a61c8e-dc7e-49b0-f357-35ab1a83fd8a"
      },
      "execution_count": null,
      "outputs": [
        {
          "output_type": "stream",
          "name": "stdout",
          "text": [
            "(3, 4)\n",
            "3\n",
            "12\n",
            "[[10. 20. 30. 40.]\n",
            " [10. 20. 30. 40.]\n",
            " [10. 20. 30. 40.]]\n",
            "[['10' '20' '30' '40']\n",
            " ['10' '20' '30' '40']\n",
            " ['10' '20' '30' '40']]\n"
          ]
        }
      ]
    },
    {
      "cell_type": "code",
      "source": [
        "# MATHEMATICAL OPERATIONS AND FUNCTIONS ON ARRAYS\n",
        "\n",
        "arr1 = np.array([10,20,30,40])\n",
        "arr2 = np.array([50,60,70,80])\n",
        "\n",
        "print (arr1+arr2) # normal addition\n",
        "print(np.add(arr1,arr2)) # using np addition\n",
        "\n",
        "print(arr1-arr2) # normal subtraction\n",
        "print(np.subtract(arr1,arr2)) # using np subtraction\n",
        "\n",
        "print(arr1*arr2) # normal multiplication\n",
        "print(np.multiply(arr1,arr2)) # using np multiplication\n",
        "\n",
        "print(arr1/arr2) # normal division\n",
        "print(np.divide(arr1,arr2)) # using np division\n",
        "\n",
        "\n",
        "arr3 = np.array([1,2,3,4])\n",
        "arr4 = np.array([4,3,2,1])\n",
        "arr5 = np.array([9,16,4,25])\n",
        "\n",
        "print(np.power(arr3,arr4)) # using np power\n",
        "\n",
        "print(np.sqrt(arr5)) # using np sqrt\n",
        "\n",
        "\n"
      ],
      "metadata": {
        "colab": {
          "base_uri": "https://localhost:8080/"
        },
        "id": "r_66JIZkWNz4",
        "outputId": "15dc16e1-b1e8-4637-b2fc-f75b5fa029af"
      },
      "execution_count": null,
      "outputs": [
        {
          "output_type": "stream",
          "name": "stdout",
          "text": [
            "[ 60  80 100 120]\n",
            "[ 60  80 100 120]\n",
            "[-40 -40 -40 -40]\n",
            "[-40 -40 -40 -40]\n",
            "[ 500 1200 2100 3200]\n",
            "[ 500 1200 2100 3200]\n",
            "[0.2        0.33333333 0.42857143 0.5       ]\n",
            "[0.2        0.33333333 0.42857143 0.5       ]\n",
            "[1 8 9 4]\n",
            "[3. 4. 2. 5.]\n"
          ]
        }
      ]
    },
    {
      "cell_type": "code",
      "source": [
        "# COMBINING AND SPLITTING ARRAYS\n",
        "\n",
        "arr1 = np.array([[10,20,30,40],[1,2,3,4]])\n",
        "arr2 = np.array([[50,60,70,80],[4,5,6,7]])\n",
        "\n",
        "arr = np.concatenate((arr1,arr2))\n",
        "print(arr)\n",
        "\n",
        "print(np.concatenate((arr1,arr2),axis=1))\n",
        "\n",
        "\n",
        "print(np.hstack((arr1,arr2))) # horizontal concatenation\n",
        "\n",
        "\n",
        "print(np.vstack((arr1,arr2))) # vertical concatenation\n",
        "\n",
        "\n",
        "# SPLIT\n",
        "\n",
        "arr = np.array([[1,2,3,4,5,6],[7,8,9,10,11,12]])\n",
        "print(np.array_split(arr,2))\n",
        "\n",
        "\n"
      ],
      "metadata": {
        "colab": {
          "base_uri": "https://localhost:8080/"
        },
        "id": "oePqavKDZoZe",
        "outputId": "ecb43402-2be4-44bc-8021-793765b92a3f"
      },
      "execution_count": null,
      "outputs": [
        {
          "output_type": "stream",
          "name": "stdout",
          "text": [
            "[[10 20 30 40]\n",
            " [ 1  2  3  4]\n",
            " [50 60 70 80]\n",
            " [ 4  5  6  7]]\n",
            "[[10 20 30 40 50 60 70 80]\n",
            " [ 1  2  3  4  4  5  6  7]]\n",
            "[[10 20 30 40 50 60 70 80]\n",
            " [ 1  2  3  4  4  5  6  7]]\n",
            "[[10 20 30 40]\n",
            " [ 1  2  3  4]\n",
            " [50 60 70 80]\n",
            " [ 4  5  6  7]]\n",
            "[array([[1, 2, 3, 4, 5, 6]]), array([[ 7,  8,  9, 10, 11, 12]])]\n"
          ]
        }
      ]
    },
    {
      "cell_type": "code",
      "source": [
        "# ADDING AND REMOVING ELEMENTS IN THE ARRAYS\n",
        "\n",
        "arr = np.array([10,20,30,40])\n",
        "print(np.append(arr,[50,60,70])) # append\n",
        "\n",
        "print(np.insert(arr,2,50)) # insert\n",
        "print(np.insert(arr,1,[50,60])) # insert\n",
        "\n",
        "print(np.delete(arr,2)) # delete\n",
        "\n"
      ],
      "metadata": {
        "colab": {
          "base_uri": "https://localhost:8080/"
        },
        "id": "QpHE3qhYjDY7",
        "outputId": "4bee5771-134b-4ef5-9b4d-b202c51d4f77"
      },
      "execution_count": null,
      "outputs": [
        {
          "output_type": "stream",
          "name": "stdout",
          "text": [
            "[10 20 30 40 50 60 70]\n",
            "[10 20 50 30 40]\n",
            "[10 50 60 20 30 40]\n",
            "[10 20 40]\n"
          ]
        }
      ]
    },
    {
      "cell_type": "code",
      "source": [
        "# SEARCH , SORT AND FILTER ARRAYS\n",
        "\n",
        "# SORT\n",
        "\n",
        "arr = np.array([20,60,4,6,0,7,34,89,1,4,5,])\n",
        "print(np.sort(arr))\n",
        "\n",
        "# SEARCH\n",
        "arr = np.array([20,60,4,6,0,7,5,34,89,1,4,50])\n",
        "search = np.where(arr % 2 == 0)\n",
        "print(search)\n",
        "\n",
        "# SEARCHSORTED\n",
        "arr = np.array([1,2,3,4,5])\n",
        "searchsorted = np.searchsorted(arr,3)\n",
        "print(searchsorted)\n",
        "\n",
        "# FILTER\n",
        "arr = np.array([1,2,3,4,5])\n",
        "filterarray = [True,False,True,False,True]\n",
        "newarr = arr[filterarray]\n",
        "print(newarr)\n",
        "\n",
        "\n",
        "filterarray = arr>2\n",
        "print(arr[filterarray])\n"
      ],
      "metadata": {
        "colab": {
          "base_uri": "https://localhost:8080/"
        },
        "id": "V1_QDXNslTHw",
        "outputId": "baef99fa-dc9c-4bf0-d368-22fefe841cd1"
      },
      "execution_count": null,
      "outputs": [
        {
          "output_type": "stream",
          "name": "stdout",
          "text": [
            "[ 0  1  4  4  5  6  7 20 34 60 89]\n",
            "(array([ 0,  1,  2,  3,  4,  7, 10, 11]),)\n",
            "2\n",
            "[1 3 5]\n",
            "[3 4 5]\n"
          ]
        }
      ]
    },
    {
      "cell_type": "code",
      "source": [
        "# AGGREGATING FUNCTIONS IN NUMPY\n",
        "arr = np.array([1,2,3,4,5])\n",
        "print(np.sum(arr))\n",
        "print(np.mean(arr))\n",
        "print(np.min(arr))\n",
        "print(np.max(arr))\n",
        "print(np.size(arr))\n",
        "print(np.cumsum(arr))\n",
        "print(np.cumprod(arr))"
      ],
      "metadata": {
        "colab": {
          "base_uri": "https://localhost:8080/"
        },
        "id": "wTKCCOglr0Z9",
        "outputId": "0fd7184e-da7b-44d6-9457-46b5fdee7be7"
      },
      "execution_count": null,
      "outputs": [
        {
          "output_type": "stream",
          "name": "stdout",
          "text": [
            "15\n",
            "3.0\n",
            "1\n",
            "5\n",
            "5\n",
            "[ 1  3  6 10 15]\n",
            "[  1   2   6  24 120]\n"
          ]
        }
      ]
    },
    {
      "cell_type": "code",
      "source": [
        "# STATISTICAL FUNCTIONS\n",
        "import statistics as stats\n",
        "data = [100,280,600,500,600,940,350,400]\n",
        "arr = np.array(data)\n",
        "print(np.mean(arr))\n",
        "print(np.median(arr))\n",
        "print(np.std(arr))\n",
        "print(np.var(arr))"
      ],
      "metadata": {
        "colab": {
          "base_uri": "https://localhost:8080/"
        },
        "id": "ZTeJuDpdvtQb",
        "outputId": "474bcefb-77e6-4674-f033-559fee5fa551"
      },
      "execution_count": null,
      "outputs": [
        {
          "output_type": "stream",
          "name": "stdout",
          "text": [
            "471.25\n",
            "450.0\n",
            "236.6134770041639\n",
            "55985.9375\n"
          ]
        }
      ]
    }
  ]
}